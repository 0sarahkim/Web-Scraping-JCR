{
 "cells": [
  {
   "cell_type": "code",
   "execution_count": 23,
   "id": "fac16ada",
   "metadata": {},
   "outputs": [],
   "source": [
    "import urllib.request as req\n",
    "import pandas as pd\n",
    "from bs4 import BeautifulSoup\n",
    "from selenium import webdriver\n",
    "from time import sleep\n",
    "from tqdm.notebook import tqdm \n",
    "from selenium.webdriver.common.keys import Keys\n",
    "from selenium.webdriver.common.by import By"
   ]
  },
  {
   "cell_type": "code",
   "execution_count": 228,
   "id": "2216fdf1",
   "metadata": {},
   "outputs": [
    {
     "name": "stderr",
     "output_type": "stream",
     "text": [
      "C:\\Users\\Sarah\\AppData\\Local\\Temp/ipykernel_7940/3390069143.py:6: DeprecationWarning: executable_path has been deprecated, please pass in a Service object\n",
      "  driver = webdriver.Firefox(executable_path=r'C:/Users/Sarah/Documents/geckodriver.exe', options=options)\n"
     ]
    }
   ],
   "source": [
    "#firefox setup\n",
    "from selenium.webdriver.firefox.options import Options\n",
    "\n",
    "options = Options()\n",
    "options.binary_location = r'C:\\Program Files\\Mozilla Firefox\\firefox.exe'\n",
    "driver = webdriver.Firefox(executable_path=r'C:/Users/Sarah/Documents/geckodriver.exe', options=options)"
   ]
  },
  {
   "cell_type": "code",
   "execution_count": 233,
   "id": "9dd79cc3",
   "metadata": {
    "scrolled": true
   },
   "outputs": [
    {
     "name": "stderr",
     "output_type": "stream",
     "text": [
      "C:\\Users\\Sarah\\AppData\\Local\\Temp/ipykernel_7940/3953043672.py:1: DeprecationWarning: executable_path has been deprecated, please pass in a Service object\n",
      "  driver = webdriver.Chrome(executable_path='C:/Users/Sarah/Documents/chromedriver_win32/chromedriver.exe')\n"
     ]
    }
   ],
   "source": [
    "driver = webdriver.Chrome(executable_path='C:/Users/Sarah/Documents/chromedriver_win32/chromedriver.exe')"
   ]
  },
  {
   "cell_type": "code",
   "execution_count": 229,
   "id": "dc10b5ce",
   "metadata": {},
   "outputs": [],
   "source": [
    "driver.get(\"https://academic.oup.com/jcr/advance-article/doi/10.1093/jcr/ucac010/6542318?searchresult=3\")\n",
    "sleep(2)"
   ]
  },
  {
   "cell_type": "code",
   "execution_count": 199,
   "id": "33be053f",
   "metadata": {},
   "outputs": [],
   "source": [
    "#driver.find_elements(by=By.CSS_SELECTOR, value=\".at-sr-article-title-link\")"
   ]
  },
  {
   "cell_type": "code",
   "execution_count": 231,
   "id": "328aed60",
   "metadata": {},
   "outputs": [
    {
     "data": {
      "text/plain": [
       "'Experiential and Analytical Price Evaluations: How Experiential Product Description Affects Prices'"
      ]
     },
     "execution_count": 231,
     "metadata": {},
     "output_type": "execute_result"
    }
   ],
   "source": [
    "driver.find_elements(by=By.CSS_SELECTOR, value=\".at-articleTitle\")[0].text"
   ]
  },
  {
   "cell_type": "code",
   "execution_count": null,
   "id": "b4cd65b9",
   "metadata": {},
   "outputs": [],
   "source": []
  },
  {
   "cell_type": "code",
   "execution_count": 161,
   "id": "cb4c8126",
   "metadata": {
    "scrolled": true
   },
   "outputs": [
    {
     "data": {
      "text/plain": [
       "20"
      ]
     },
     "execution_count": 161,
     "metadata": {},
     "output_type": "execute_result"
    }
   ],
   "source": [
    "len(journals)"
   ]
  },
  {
   "cell_type": "code",
   "execution_count": 234,
   "id": "20e8ffab",
   "metadata": {},
   "outputs": [],
   "source": [
    "title=[]\n",
    "abstract=[]\n",
    "authors=[]\n",
    "pub_date=[]\n",
    "web_link=[]"
   ]
  },
  {
   "cell_type": "code",
   "execution_count": 235,
   "id": "7c20da66",
   "metadata": {},
   "outputs": [
    {
     "data": {
      "application/vnd.jupyter.widget-view+json": {
       "model_id": "37a2f8cf44a14b1d8c85faa900904621",
       "version_major": 2,
       "version_minor": 0
      },
      "text/plain": [
       "  0%|          | 0/137 [00:00<?, ?it/s]"
      ]
     },
     "metadata": {},
     "output_type": "display_data"
    },
    {
     "ename": "IndexError",
     "evalue": "list index out of range",
     "output_type": "error",
     "traceback": [
      "\u001b[1;31m---------------------------------------------------------------------------\u001b[0m",
      "\u001b[1;31mIndexError\u001b[0m                                Traceback (most recent call last)",
      "\u001b[1;32m~\\AppData\\Local\\Temp/ipykernel_7940/3323638531.py\u001b[0m in \u001b[0;36m<module>\u001b[1;34m\u001b[0m\n\u001b[0;32m     25\u001b[0m         \u001b[0mpub_date\u001b[0m\u001b[1;33m.\u001b[0m\u001b[0mextend\u001b[0m\u001b[1;33m(\u001b[0m\u001b[1;33m[\u001b[0m\u001b[0mdriver\u001b[0m\u001b[1;33m.\u001b[0m\u001b[0mfind_elements\u001b[0m\u001b[1;33m(\u001b[0m\u001b[0mby\u001b[0m\u001b[1;33m=\u001b[0m\u001b[0mBy\u001b[0m\u001b[1;33m.\u001b[0m\u001b[0mCSS_SELECTOR\u001b[0m\u001b[1;33m,\u001b[0m \u001b[0mvalue\u001b[0m\u001b[1;33m=\u001b[0m\u001b[1;34m\".citation-date\"\u001b[0m\u001b[1;33m)\u001b[0m\u001b[1;33m[\u001b[0m\u001b[1;36m0\u001b[0m\u001b[1;33m]\u001b[0m\u001b[1;33m.\u001b[0m\u001b[0mtext\u001b[0m\u001b[1;33m]\u001b[0m\u001b[1;33m)\u001b[0m\u001b[1;33m\u001b[0m\u001b[1;33m\u001b[0m\u001b[0m\n\u001b[0;32m     26\u001b[0m \u001b[1;33m\u001b[0m\u001b[0m\n\u001b[1;32m---> 27\u001b[1;33m         \u001b[0mabstract\u001b[0m\u001b[1;33m.\u001b[0m\u001b[0mextend\u001b[0m\u001b[1;33m(\u001b[0m\u001b[1;33m[\u001b[0m\u001b[0mdriver\u001b[0m\u001b[1;33m.\u001b[0m\u001b[0mfind_elements\u001b[0m\u001b[1;33m(\u001b[0m\u001b[0mby\u001b[0m\u001b[1;33m=\u001b[0m\u001b[0mBy\u001b[0m\u001b[1;33m.\u001b[0m\u001b[0mCSS_SELECTOR\u001b[0m\u001b[1;33m,\u001b[0m \u001b[0mvalue\u001b[0m\u001b[1;33m=\u001b[0m\u001b[1;34m\".chapter-para\"\u001b[0m\u001b[1;33m)\u001b[0m\u001b[1;33m[\u001b[0m\u001b[1;36m0\u001b[0m\u001b[1;33m]\u001b[0m\u001b[1;33m.\u001b[0m\u001b[0mtext\u001b[0m\u001b[1;33m]\u001b[0m\u001b[1;33m)\u001b[0m\u001b[1;33m\u001b[0m\u001b[1;33m\u001b[0m\u001b[0m\n\u001b[0m\u001b[0;32m     28\u001b[0m \u001b[1;33m\u001b[0m\u001b[0m\n\u001b[0;32m     29\u001b[0m         \u001b[0mweb_link\u001b[0m\u001b[1;33m.\u001b[0m\u001b[0mextend\u001b[0m\u001b[1;33m(\u001b[0m\u001b[1;33m[\u001b[0m\u001b[0mdriver\u001b[0m\u001b[1;33m.\u001b[0m\u001b[0mfind_elements\u001b[0m\u001b[1;33m(\u001b[0m\u001b[0mby\u001b[0m\u001b[1;33m=\u001b[0m\u001b[0mBy\u001b[0m\u001b[1;33m.\u001b[0m\u001b[0mCSS_SELECTOR\u001b[0m\u001b[1;33m,\u001b[0m \u001b[0mvalue\u001b[0m\u001b[1;33m=\u001b[0m\u001b[1;34m\".ww-citation-primary a\"\u001b[0m\u001b[1;33m)\u001b[0m\u001b[1;33m[\u001b[0m\u001b[1;36m0\u001b[0m\u001b[1;33m]\u001b[0m\u001b[1;33m.\u001b[0m\u001b[0mtext\u001b[0m\u001b[1;33m]\u001b[0m\u001b[1;33m)\u001b[0m\u001b[1;33m\u001b[0m\u001b[1;33m\u001b[0m\u001b[0m\n",
      "\u001b[1;31mIndexError\u001b[0m: list index out of range"
     ]
    }
   ],
   "source": [
    "base_url = \"https://academic.oup.com/jcr/search-results?f_JournalTitle=Journal+of+Consumer+Research&fl_SiteID=5397&page={}\"\n",
    "\n",
    "for i in tqdm (range(137)):\n",
    "    \n",
    "    driver.get(base_url.format(i+1))\n",
    "    sleep(2)\n",
    "    \n",
    "    journal=driver.find_elements(by=By.CSS_SELECTOR, value=\".at-sr-article-title-link\")\n",
    "    \n",
    "    for i in journal: \n",
    "        main_window = driver.current_window_handle\n",
    "\n",
    "        i.send_keys(Keys.CONTROL + Keys.ENTER)\n",
    "        driver.switch_to.window(driver.window_handles[1])\n",
    "\n",
    "        sleep(2)\n",
    "\n",
    "        doc =  BeautifulSoup(driver.page_source, \"html.parser\")\n",
    "\n",
    "        title.extend([driver.find_elements(by=By.CSS_SELECTOR, value=\".at-articleTitle\")[0].text])\n",
    "\n",
    "        #end = len(driver.find_elements(by=By.CSS_SELECTOR, value=\".js-linked-name-trigger\"))\n",
    "        #authors.extend([driver.find_elements(by=By.CSS_SELECTOR, value=\".js-linked-name-trigger\")[n].text for n in range(0,end)])\n",
    "\n",
    "        pub_date.extend([driver.find_elements(by=By.CSS_SELECTOR, value=\".citation-date\")[0].text])\n",
    "\n",
    "        abstract.extend([driver.find_elements(by=By.CSS_SELECTOR, value=\".chapter-para\")[0].text])\n",
    "\n",
    "        web_link.extend([driver.find_elements(by=By.CSS_SELECTOR, value=\".ww-citation-primary a\")[0].text])\n",
    "\n",
    "\n",
    "        driver.close()\n",
    "\n",
    "        driver.switch_to.window(main_window)\n",
    "\n",
    "        sleep(2)\n"
   ]
  },
  {
   "cell_type": "code",
   "execution_count": null,
   "id": "d153ce19",
   "metadata": {},
   "outputs": [],
   "source": [
    "#p47 Volume 36 Author Index abstract missing- crawler crashed"
   ]
  },
  {
   "cell_type": "code",
   "execution_count": 246,
   "id": "6b473f36",
   "metadata": {},
   "outputs": [],
   "source": [
    "jcr_journals=pd.DataFrame({\"Title\":title,\n",
    "                           \"Abstract\":abstract,\n",
    "                           \"Published Date\": pub_date,\n",
    "                           \"Link\":web_link})"
   ]
  },
  {
   "cell_type": "code",
   "execution_count": 151,
   "id": "1e98e1b6",
   "metadata": {},
   "outputs": [
    {
     "data": {
      "text/html": [
       "<div>\n",
       "<style scoped>\n",
       "    .dataframe tbody tr th:only-of-type {\n",
       "        vertical-align: middle;\n",
       "    }\n",
       "\n",
       "    .dataframe tbody tr th {\n",
       "        vertical-align: top;\n",
       "    }\n",
       "\n",
       "    .dataframe thead th {\n",
       "        text-align: right;\n",
       "    }\n",
       "</style>\n",
       "<table border=\"1\" class=\"dataframe\">\n",
       "  <thead>\n",
       "    <tr style=\"text-align: right;\">\n",
       "      <th></th>\n",
       "      <th>Title</th>\n",
       "      <th>Abstract</th>\n",
       "      <th>Published Date</th>\n",
       "      <th>Link</th>\n",
       "    </tr>\n",
       "  </thead>\n",
       "  <tbody>\n",
       "    <tr>\n",
       "      <th>0</th>\n",
       "      <td>Let Me Show You What I Did versus What I Have:...</td>\n",
       "      <td>Social media may encourage novel ways of signa...</td>\n",
       "      <td>27 November 2021</td>\n",
       "      <td>https://doi.org/10.1093/jcr/ucab068</td>\n",
       "    </tr>\n",
       "    <tr>\n",
       "      <th>1</th>\n",
       "      <td>Repair, Consumption, and Sustainability: Fixin...</td>\n",
       "      <td>Repair is an overlooked but important aspect o...</td>\n",
       "      <td>24 November 2021</td>\n",
       "      <td>https://doi.org/10.1093/jcr/ucab067</td>\n",
       "    </tr>\n",
       "    <tr>\n",
       "      <th>2</th>\n",
       "      <td>Banking Happiness</td>\n",
       "      <td>Merely anticipating a future sad event motivat...</td>\n",
       "      <td>18 November 2021</td>\n",
       "      <td>https://doi.org/10.1093/jcr/ucab066</td>\n",
       "    </tr>\n",
       "    <tr>\n",
       "      <th>3</th>\n",
       "      <td>Courtesy Stigma Management: Social Identity Wo...</td>\n",
       "      <td>Prior consumer research has tended to focus on...</td>\n",
       "      <td>10 November 2021</td>\n",
       "      <td>https://doi.org/10.1093/jcr/ucab065</td>\n",
       "    </tr>\n",
       "    <tr>\n",
       "      <th>4</th>\n",
       "      <td>Call For Papers: Special Anniversary Issue: 50...</td>\n",
       "      <td>The Journal of Consumer Research (JCR) invites...</td>\n",
       "      <td>29 October 2021</td>\n",
       "      <td>https://doi.org/10.1093/jcr/ucab064</td>\n",
       "    </tr>\n",
       "    <tr>\n",
       "      <th>...</th>\n",
       "      <td>...</td>\n",
       "      <td>...</td>\n",
       "      <td>...</td>\n",
       "      <td>...</td>\n",
       "    </tr>\n",
       "    <tr>\n",
       "      <th>138</th>\n",
       "      <td>Filling an Empty Self: The Impact of Social Ex...</td>\n",
       "      <td>This research examines the effect of social ex...</td>\n",
       "      <td>19 April 2019</td>\n",
       "      <td>https://doi.org/10.1093/jcr/ucz011</td>\n",
       "    </tr>\n",
       "    <tr>\n",
       "      <th>139</th>\n",
       "      <td>Corrigendum</td>\n",
       "      <td>The Nature of Slacktivism: How the Social Obse...</td>\n",
       "      <td>06 April 2019</td>\n",
       "      <td>https://doi.org/10.1093/jcr/ucz005</td>\n",
       "    </tr>\n",
       "    <tr>\n",
       "      <th>140</th>\n",
       "      <td>Nonconscious Nudges: Encouraging Sustained Goa...</td>\n",
       "      <td>A person can use a variety of strategies to su...</td>\n",
       "      <td>08 October 2018</td>\n",
       "      <td>https://doi.org/10.1093/jcr/ucy071</td>\n",
       "    </tr>\n",
       "    <tr>\n",
       "      <th>141</th>\n",
       "      <td>Hedonic Contrast Effects Are Larger When Compa...</td>\n",
       "      <td>A hedonic contrast effect occurs when comparin...</td>\n",
       "      <td>18 September 2018</td>\n",
       "      <td>https://doi.org/10.1093/jcr/ucy070</td>\n",
       "    </tr>\n",
       "    <tr>\n",
       "      <th>142</th>\n",
       "      <td>When Busy Is Less Indulging: Impact of Busy Mi...</td>\n",
       "      <td>An increasing number of consumers, in recent t...</td>\n",
       "      <td>15 September 2018</td>\n",
       "      <td>https://doi.org/10.1093/jcr/ucy069</td>\n",
       "    </tr>\n",
       "  </tbody>\n",
       "</table>\n",
       "<p>143 rows × 4 columns</p>\n",
       "</div>"
      ],
      "text/plain": [
       "                                                 Title  \\\n",
       "0    Let Me Show You What I Did versus What I Have:...   \n",
       "1    Repair, Consumption, and Sustainability: Fixin...   \n",
       "2                                    Banking Happiness   \n",
       "3    Courtesy Stigma Management: Social Identity Wo...   \n",
       "4    Call For Papers: Special Anniversary Issue: 50...   \n",
       "..                                                 ...   \n",
       "138  Filling an Empty Self: The Impact of Social Ex...   \n",
       "139                                        Corrigendum   \n",
       "140  Nonconscious Nudges: Encouraging Sustained Goa...   \n",
       "141  Hedonic Contrast Effects Are Larger When Compa...   \n",
       "142  When Busy Is Less Indulging: Impact of Busy Mi...   \n",
       "\n",
       "                                              Abstract     Published Date  \\\n",
       "0    Social media may encourage novel ways of signa...   27 November 2021   \n",
       "1    Repair is an overlooked but important aspect o...   24 November 2021   \n",
       "2    Merely anticipating a future sad event motivat...   18 November 2021   \n",
       "3    Prior consumer research has tended to focus on...   10 November 2021   \n",
       "4    The Journal of Consumer Research (JCR) invites...    29 October 2021   \n",
       "..                                                 ...                ...   \n",
       "138  This research examines the effect of social ex...      19 April 2019   \n",
       "139  The Nature of Slacktivism: How the Social Obse...      06 April 2019   \n",
       "140  A person can use a variety of strategies to su...    08 October 2018   \n",
       "141  A hedonic contrast effect occurs when comparin...  18 September 2018   \n",
       "142  An increasing number of consumers, in recent t...  15 September 2018   \n",
       "\n",
       "                                    Link  \n",
       "0    https://doi.org/10.1093/jcr/ucab068  \n",
       "1    https://doi.org/10.1093/jcr/ucab067  \n",
       "2    https://doi.org/10.1093/jcr/ucab066  \n",
       "3    https://doi.org/10.1093/jcr/ucab065  \n",
       "4    https://doi.org/10.1093/jcr/ucab064  \n",
       "..                                   ...  \n",
       "138   https://doi.org/10.1093/jcr/ucz011  \n",
       "139   https://doi.org/10.1093/jcr/ucz005  \n",
       "140   https://doi.org/10.1093/jcr/ucy071  \n",
       "141   https://doi.org/10.1093/jcr/ucy070  \n",
       "142   https://doi.org/10.1093/jcr/ucy069  \n",
       "\n",
       "[143 rows x 4 columns]"
      ]
     },
     "execution_count": 151,
     "metadata": {},
     "output_type": "execute_result"
    }
   ],
   "source": [
    "jcr_journals"
   ]
  },
  {
   "cell_type": "code",
   "execution_count": 247,
   "id": "a744168d",
   "metadata": {},
   "outputs": [],
   "source": [
    "jcr_journals.to_csv('jcr_journals2.csv',index=False)"
   ]
  },
  {
   "cell_type": "code",
   "execution_count": null,
   "id": "14ca2aea",
   "metadata": {},
   "outputs": [],
   "source": []
  }
 ],
 "metadata": {
  "kernelspec": {
   "display_name": "Python 3 (ipykernel)",
   "language": "python",
   "name": "python3"
  },
  "language_info": {
   "codemirror_mode": {
    "name": "ipython",
    "version": 3
   },
   "file_extension": ".py",
   "mimetype": "text/x-python",
   "name": "python",
   "nbconvert_exporter": "python",
   "pygments_lexer": "ipython3",
   "version": "3.9.7"
  }
 },
 "nbformat": 4,
 "nbformat_minor": 5
}
